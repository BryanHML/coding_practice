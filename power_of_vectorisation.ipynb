{
 "cells": [
  {
   "cell_type": "code",
   "execution_count": 2,
   "id": "4632f2ef",
   "metadata": {},
   "outputs": [
    {
     "name": "stdout",
     "output_type": "stream",
     "text": [
      "[1 2 3 4]\n"
     ]
    }
   ],
   "source": [
    "import numpy as np \n",
    "\n",
    "a = np.array([1,2,3,4])\n",
    "\n",
    "print(a)"
   ]
  },
  {
   "cell_type": "code",
   "execution_count": 14,
   "id": "71767f5c",
   "metadata": {},
   "outputs": [
    {
     "name": "stdout",
     "output_type": "stream",
     "text": [
      "vectorised version: 0.0ms\n"
     ]
    }
   ],
   "source": [
    "import time \n",
    "\n",
    "a = np.random.rand(1000000)\n",
    "\n",
    "b = np.random.rand(1000000)\n",
    "\n",
    "tic = time.time()\n",
    "\n",
    "c = np.dot(a,b)\n",
    "\n",
    "toc = time.time()\n",
    "\n",
    "print(\"vectorised version:\",  str(1000*(toc-tic)) + \"ms\")"
   ]
  },
  {
   "cell_type": "code",
   "execution_count": 15,
   "id": "9775a98b",
   "metadata": {},
   "outputs": [
    {
     "name": "stdout",
     "output_type": "stream",
     "text": [
      "13.2 ms ± 665 μs per loop (mean ± std. dev. of 7 runs, 100 loops each)\n"
     ]
    }
   ],
   "source": [
    "%%timeit\n",
    "a = np.random.rand(1000000)\n",
    "\n",
    "b = np.random.rand(1000000)\n",
    "\n",
    "c = np.dot(a,b)\n",
    "\n"
   ]
  },
  {
   "cell_type": "code",
   "execution_count": 17,
   "id": "bdd55039",
   "metadata": {},
   "outputs": [
    {
     "name": "stdout",
     "output_type": "stream",
     "text": [
      "243.70884895324707 ms\n"
     ]
    }
   ],
   "source": [
    "c = 0 \n",
    "tic = time.time()\n",
    "\n",
    "for i in range(1000000):\n",
    "    c += a[i] * b[i]\n",
    "\n",
    "toc = time.time()\n",
    "\n",
    "print(str(1000*(toc - tic)), \"ms\")"
   ]
  },
  {
   "cell_type": "markdown",
   "id": "c07464c4",
   "metadata": {},
   "source": [
    "Logistic regression derivatives"
   ]
  },
  {
   "cell_type": "markdown",
   "id": "c665e82f",
   "metadata": {},
   "source": [
    "below is the non-vectorised version. let's see how can we change it later on"
   ]
  },
  {
   "cell_type": "code",
   "execution_count": null,
   "id": "2a173ba0",
   "metadata": {},
   "outputs": [],
   "source": [
    "m  = 10\n",
    "z = np.zeros(10)\n",
    "w = np.zeros(2)\n",
    "x = np.zeros(10)\n",
    "a = np.zeros(10)\n",
    "y = np.zeros(10)\n",
    "dz = np.zeros(10)\n",
    "\n",
    "\n",
    "def activation_func(z):\n",
    "    pass\n",
    "\n",
    "# Initialise \n",
    "j, dw_1, dw_2, db = 0,0,0,0\n",
    "\n",
    "for i in range(1,m+1):\n",
    "    z[i] = w.T*x[i] + b\n",
    "    a[i] = activation_func(z[i])\n",
    "    # cost function\n",
    "    j += -( y[i]* np.log(a[i]) + (1-y[i]) *np.log(1-a[i]) )\n",
    "\n",
    "    dz[i] = a[i] - y[i]\n",
    "    \n",
    "    #updates (suppose to be a for loop)\n",
    "    dw_1 += x_1[i] * dz[i]\n",
    "\n",
    "    dw_2 += x_2[i] * dz[i]\n",
    "\n",
    "    db += dz[i]\n",
    "\n",
    "# average it \n",
    "j, dw_1, dw_2, db = j/m, dw_1/m, dw_2/m, db/m\n",
    "\n",
    "\n"
   ]
  },
  {
   "cell_type": "code",
   "execution_count": null,
   "id": "83d91340",
   "metadata": {},
   "outputs": [],
   "source": [
    "m  = 10\n",
    "z = np.zeros(10)\n",
    "w = np.zeros(2)\n",
    "x = np.zeros(10)\n",
    "a = np.zeros(10)\n",
    "y = np.zeros(10)\n",
    "dz = np.zeros(10)\n",
    "n_x = 10\n",
    "\n",
    "\n",
    "def activation_func(z):\n",
    "    pass\n",
    "\n",
    "# Initialise \n",
    "j, db = 0,0\n",
    "\n",
    "dw = np.zeros((n_x, 1))\n",
    "\n",
    "for i in range(1,m+1):\n",
    "    z[i] = w.T*x[i] + b\n",
    "    a[i] = activation_func(z[i])\n",
    "    # cost function\n",
    "    j += -( y[i]* np.log(a[i]) + (1-y[i]) *np.log(1-a[i]) )\n",
    "\n",
    "    dz[i] = a[i] - y[i]\n",
    "    \n",
    "    #updates (suppose to be a for loop)\n",
    "    dw += x[i] * dz[i]\n",
    "\n",
    "    db += dz[i]\n",
    "\n",
    "# average it \n",
    "j, db = j/m, db/m\n",
    "dw /= m\n"
   ]
  },
  {
   "cell_type": "markdown",
   "id": "02653897",
   "metadata": {},
   "source": [
    "Proper vectorised solution below "
   ]
  },
  {
   "cell_type": "code",
   "execution_count": null,
   "id": "53b2ffdb",
   "metadata": {},
   "outputs": [],
   "source": [
    "#learning rate\n",
    "alph = 0.1\n",
    "n_x = 10\n",
    "m = 10 \n",
    "X = np.ones(n_x,m)\n",
    "Y = np.ones(1,m)\n",
    "\n",
    "\n",
    "# Iterations \n",
    "for iter in range(100):\n",
    "\n",
    "    # Forward Pass \n",
    "    Z = np.dot(W.T, X) + b\n",
    "    A = activation_func(Z)\n",
    "\n",
    "    # Back propagation\n",
    "    dZ = A - Y   # dZ has (1,m) dimensions\n",
    "    dw = (X/m) * dZ.T # (n_x,m) * (m,1)\n",
    "    db = np.sum(dZ)/m \n",
    "\n",
    "    # Updates\n",
    "    w = w - alph * dw\n",
    "    b = b - alph * db\n",
    " "
   ]
  },
  {
   "cell_type": "markdown",
   "id": "d3df9772",
   "metadata": {},
   "source": [
    "Practice broadcasting \n"
   ]
  },
  {
   "cell_type": "code",
   "execution_count": null,
   "id": "39157a1e",
   "metadata": {},
   "outputs": [
    {
     "data": {
      "text/plain": [
       "(3, 4)"
      ]
     },
     "execution_count": 4,
     "metadata": {},
     "output_type": "execute_result"
    }
   ],
   "source": [
    "\"\"\"\n",
    "            Apples   Beef    Eggs   Potatoes \n",
    "Carbs\n",
    "Protein\n",
    "Fat \n",
    "\n",
    "\"\"\"\n",
    "\n",
    "A = np.array(\n",
    "    [[56.0, 0.0, 4.4, 68.0],\n",
    "    [1.2, 104.0, 52.0, 8.0],\n",
    "    [1.8, 135.0, 99.0, 0.9]]\n",
    ")\n",
    "\n",
    "A.shape"
   ]
  },
  {
   "cell_type": "markdown",
   "id": "9f3a676d",
   "metadata": {},
   "source": [
    "axis = 0 collapses the rows together "
   ]
  },
  {
   "cell_type": "code",
   "execution_count": 5,
   "id": "57f241ef",
   "metadata": {},
   "outputs": [
    {
     "data": {
      "text/plain": [
       "array([ 59. , 239. , 155.4,  76.9])"
      ]
     },
     "execution_count": 5,
     "metadata": {},
     "output_type": "execute_result"
    }
   ],
   "source": [
    "cal = A.sum(axis=0)\n",
    "\n",
    "cal "
   ]
  },
  {
   "cell_type": "markdown",
   "id": "a4e84c23",
   "metadata": {},
   "source": [
    "code below is broadcasting where we are dividing a (3,4) matrix by (1,4) matrix "
   ]
  },
  {
   "cell_type": "code",
   "execution_count": null,
   "id": "46f67bfc",
   "metadata": {},
   "outputs": [
    {
     "data": {
      "text/plain": [
       "array([[94.91525424,  0.        ,  2.83140283, 88.42652796],\n",
       "       [ 2.03389831, 43.51464435, 33.46203346, 10.40312094],\n",
       "       [ 3.05084746, 56.48535565, 63.70656371,  1.17035111]])"
      ]
     },
     "execution_count": 9,
     "metadata": {},
     "output_type": "execute_result"
    }
   ],
   "source": [
    "percentage = A/(cal.reshape(1,4)) * 100\n",
    "\n",
    "percentage"
   ]
  }
 ],
 "metadata": {
  "kernelspec": {
   "display_name": "semistruct2",
   "language": "python",
   "name": "python3"
  },
  "language_info": {
   "codemirror_mode": {
    "name": "ipython",
    "version": 3
   },
   "file_extension": ".py",
   "mimetype": "text/x-python",
   "name": "python",
   "nbconvert_exporter": "python",
   "pygments_lexer": "ipython3",
   "version": "3.11.12"
  }
 },
 "nbformat": 4,
 "nbformat_minor": 5
}
